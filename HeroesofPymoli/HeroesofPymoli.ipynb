{
 "cells": [
  {
   "cell_type": "code",
   "execution_count": null,
   "metadata": {},
   "outputs": [],
   "source": [
    "# Dependencies and Setup\n",
    "import pandas as pd\n",
    "\n",
    "# File to Load (Remember to Change These)\n",
    "file_to_load = \"Resources/purchase_data.csv\"\n",
    "\n",
    "# Read Purchasing File and store into Pandas data frame\n",
    "purchase_data = pd.read_csv(file_to_load)\n",
    "purchase_data.head()"
   ]
  },
  {
   "cell_type": "markdown",
   "metadata": {},
   "source": [
    "## Player Count"
   ]
  },
  {
   "cell_type": "code",
   "execution_count": null,
   "metadata": {},
   "outputs": [],
   "source": [
    "#create dataframe of total players\n",
    "t_players = pd.DataFrame({'Total Players': [purchase_data.SN.nunique()]})\n",
    "#display dataframe\n",
    "t_players.head()"
   ]
  },
  {
   "cell_type": "markdown",
   "metadata": {},
   "source": [
    "## Purchasing Analysis (Total)"
   ]
  },
  {
   "cell_type": "code",
   "execution_count": null,
   "metadata": {},
   "outputs": [],
   "source": [
    "#find the number of unique items\n",
    "unique_items = len(pd.unique(purchase_data['Item Name']))\n",
    "#find and round the average price\n",
    "ave_price = purchase_data.Price.mean()\n",
    "ave_price = round(ave_price, 2)\n",
    "#find the total number of purchases\n",
    "purchase_total = len(pd.unique(purchase_data['Purchase ID']))\n",
    "#find total revenue\n",
    "total_rev = purchase_data.Price.sum()\n",
    "total_rev = round(total_rev, 2)\n",
    "#create dataframe with new values\n",
    "summary_data = pd.DataFrame(\n",
    "    {'Number of Unique Items':[unique_items],\n",
    "     'Average Price':[ave_price],\n",
    "     'Number of Purchases':[purchase_total],\n",
    "     'Total Revenue':[total_rev]})\n",
    "#format columns to represent dollar amounts\n",
    "summary_data['Average Price'] = summary_data['Average Price'].map(\"${:.2f}\".format)\n",
    "summary_data['Total Revenue'] = summary_data['Total Revenue'].map(\"${:,.2f}\".format)\n",
    "#display summary dataframe\n",
    "summary_data"
   ]
  },
  {
   "cell_type": "markdown",
   "metadata": {},
   "source": [
    "## Gender Demographics"
   ]
  },
  {
   "cell_type": "code",
   "execution_count": null,
   "metadata": {},
   "outputs": [],
   "source": [
    "#group original dataframe by gender\n",
    "gender_index = purchase_data.groupby(['Gender'])\n",
    "#find unique gender count\n",
    "gendered_count = gender_index.SN.nunique()\n",
    "#create variable for total unique players\n",
    "unique_players = len(purchase_data.SN.unique())\n",
    "#find percentages of players\n",
    "player_percent = gendered_count / unique_players * 100\n",
    "player_percent = round(player_percent, 2)\n",
    "#create dataframe with gendered_count and player_percent\n",
    "gender_frame = pd.DataFrame({'Total Count': gendered_count, 'Percentage of Players': player_percent})\n",
    "#format percentage column\n",
    "gender_frame['Percentage of Players'] = gender_frame['Percentage of Players'].map(\"{:.2f}%\".format)\n",
    "#sort and display dataframe\n",
    "gender_frame = gender_frame.sort_values('Total Count', ascending=False)\n",
    "gender_frame"
   ]
  },
  {
   "cell_type": "markdown",
   "metadata": {},
   "source": [
    "## Purchasing Analysis (Gender)"
   ]
  },
  {
   "cell_type": "code",
   "execution_count": null,
   "metadata": {},
   "outputs": [],
   "source": [
    "#use gender_index groupby to obtain gendered:\n",
    "#purchase counts\n",
    "purchase_counts = gender_index['Purchase ID'].count()\n",
    "#avg. price\n",
    "avg_gen_price = round(gender_index['Price'].mean(), 2)\n",
    "#total value\n",
    "tot_gen_price = round(gender_index['Price'].sum(), 2)\n",
    "#avg. total / individual person\n",
    "pur_person = round(tot_gen_price / gendered_count, 2)\n",
    "#create dataframe with these values\n",
    "gender_analysis = pd.DataFrame({'Purchase Count': purchase_counts,\n",
    "                              'Average Purchase Price': avg_gen_price,\n",
    "                              'Total Purchase Value': tot_gen_price,\n",
    "                              'Avg Total Purchase per Person': pur_person})\n",
    "#format money columns\n",
    "gender_analysis['Average Purchase Price'] = gender_analysis['Average Purchase Price'].map(\"${:,.2f}\".format)\n",
    "gender_analysis['Total Purchase Value'] = gender_analysis['Total Purchase Value'].map(\"${:,.2f}\".format)\n",
    "gender_analysis['Avg Total Purchase per Person'] = gender_analysis['Avg Total Purchase per Person'].map(\"${:,.2f}\".format)\n",
    "#display dataframe\n",
    "gender_analysis"
   ]
  },
  {
   "cell_type": "markdown",
   "metadata": {},
   "source": [
    "## Age Demographics"
   ]
  },
  {
   "cell_type": "code",
   "execution_count": null,
   "metadata": {},
   "outputs": [],
   "source": [
    "#create age bins of 8 categories\n",
    "age_num = [0, 9.9, 14.9, 19.9, 24.9, 29.9, 34.9, 39.9, 999]\n",
    "age_set = ['<10', '10-14', '15-19', '20-24', '25-29', '30-34', '35-39', '40+']\n",
    "#cut original dataframe using bins\n",
    "purchase_data['Age Set'] = pd.cut(purchase_data['Age'], age_num, labels=age_set)\n",
    "#group by age sets\n",
    "age_data = purchase_data.groupby(['Age Set'])\n",
    "#count total unique players\n",
    "age_count = age_data['SN'].nunique()\n",
    "#calculate percentage of total unique players\n",
    "per_age = round(age_count / unique_players * 100, 2)\n",
    "#create dataframe\n",
    "age_grouping = pd.DataFrame({'Total Count': age_count,\n",
    "                            'Percentage of Players': per_age})\n",
    "#format dataframe\n",
    "age_grouping['Percentage of Players'] = age_grouping['Percentage of Players'].map(\"{:.2f}%\".format)\n",
    "age_grouping.index.name = None\n",
    "age_grouping"
   ]
  },
  {
   "cell_type": "markdown",
   "metadata": {},
   "source": [
    "## Purchasing Analysis (Age)"
   ]
  },
  {
   "cell_type": "code",
   "execution_count": null,
   "metadata": {},
   "outputs": [],
   "source": [
    "#find unique purchases\n",
    "age_upur = age_data['Purchase ID'].count()\n",
    "#find average purchase price\n",
    "age_price = round(age_data['Price'].mean(), 2)\n",
    "#find total purchase value\n",
    "age_tpur = age_data['Price'].sum()\n",
    "#find avg. total price per person\n",
    "age_purchase_person = round(age_tpur / age_count, 2)\n",
    "#create dataframe\n",
    "age_analysis = pd.DataFrame({'Purchase Count': age_upur,\n",
    "                            'Average Purchase Price': age_price,\n",
    "                            'Total Purchase Value': age_tpur,\n",
    "                            'Avg Total Purchase per Person': age_purchase_person})\n",
    "#format money cells\n",
    "age_analysis['Average Purchase Price'] = age_analysis['Average Purchase Price'].map(\"${:,.2f}\".format)\n",
    "age_analysis['Total Purchase Value'] = age_analysis['Total Purchase Value'].map(\"${:,.2f}\".format)\n",
    "age_analysis['Avg Total Purchase per Person'] = age_analysis['Avg Total Purchase per Person'].map(\"${:,.2f}\".format)\n",
    "age_analysis.index.name = 'Age Ranges'\n",
    "age_analysis"
   ]
  },
  {
   "cell_type": "markdown",
   "metadata": {},
   "source": [
    "## Top Spenders"
   ]
  },
  {
   "cell_type": "code",
   "execution_count": null,
   "metadata": {},
   "outputs": [],
   "source": [
    "#group original dataframe by usernames\n",
    "usn_df = purchase_data.groupby(['SN'])\n",
    "#find the purchase count\n",
    "pur_count = usn_df['Purchase ID'].count()\n",
    "#find the average purchase price\n",
    "big_avg = round(usn_df.Price.mean(), 2)\n",
    "#find the sum of all a user's purchases\n",
    "big_sum = round(usn_df.Price.sum(), 2)\n",
    "#create dataframe of top spenders\n",
    "big_spender = pd.DataFrame({'Purchase Count': pur_count,\n",
    "                           'Average Purchase Price': big_avg,\n",
    "                           'Total Purchase Value': big_sum})\n",
    "#sort dataframe in descending order\n",
    "big_spender = big_spender.sort_values('Total Purchase Value', ascending=False)\n",
    "#format money columns\n",
    "big_spender['Average Purchase Price'] = big_spender['Average Purchase Price'].map(\"${:,.2f}\".format)\n",
    "big_spender['Total Purchase Value'] = big_spender['Total Purchase Value'].map(\"${:,.2f}\".format)\n",
    "big_spender.head()"
   ]
  },
  {
   "cell_type": "markdown",
   "metadata": {},
   "source": [
    "## Most Popular Items"
   ]
  },
  {
   "cell_type": "code",
   "execution_count": null,
   "metadata": {},
   "outputs": [],
   "source": [
    "#make dataframe of Item ID, Item Name, and Item Price\n",
    "data = purchase_data[['Item ID', 'Item Name', 'Price']]\n",
    "#group by Item ID and Item Name\n",
    "popular_data = data.groupby(['Item ID', 'Item Name'])\n",
    "#find purchase count\n",
    "popular_purchases = popular_data['Item ID'].count()\n",
    "#find total purchase value\n",
    "popular_total = popular_data['Price'].sum()\n",
    "#find item's average price\n",
    "popular_prices = popular_total / popular_purchases\n",
    "#create dataframe\n",
    "popular_items = pd.DataFrame({'Purchase Count': popular_purchases,\n",
    "                             'Item Price': popular_prices,\n",
    "                             'Total Purchase Value': popular_total})\n",
    "#format money columns\n",
    "popular_items['Item Price'] = popular_items['Item Price'].map(\"${:,.2f}\".format)\n",
    "popular_items['Total Purchase Value'] = popular_items['Total Purchase Value'].map(\"${:,.2f}\".format)\n",
    "#sort dataframe in descending order\n",
    "popular_items = popular_items.sort_values('Purchase Count', ascending=False)\n",
    "popular_items.head()"
   ]
  },
  {
   "cell_type": "code",
   "execution_count": null,
   "metadata": {},
   "outputs": [],
   "source": []
  },
  {
   "cell_type": "code",
   "execution_count": null,
   "metadata": {},
   "outputs": [],
   "source": [
    "#sort dataframe in descending order\n",
    "pricy_items = popular_items.sort_values('Total Purchase Value', ascending=False)\n",
    "pricy_items.head()"
   ]
  }
 ],
 "metadata": {
  "kernelspec": {
   "display_name": "Python 3",
   "language": "python",
   "name": "python3"
  },
  "language_info": {
   "codemirror_mode": {
    "name": "ipython",
    "version": 3
   },
   "file_extension": ".py",
   "mimetype": "text/x-python",
   "name": "python",
   "nbconvert_exporter": "python",
   "pygments_lexer": "ipython3",
   "version": "3.8.5"
  }
 },
 "nbformat": 4,
 "nbformat_minor": 4
}
